{
 "cells": [
  {
   "cell_type": "markdown",
   "metadata": {},
   "source": [
    "#利用OpenCV画图<br>\n",
    "\n",
    "color:图像颜色<br>\n",
    "thickness:图像线条粗细<br>\n",
    "linetype:图像线条线型<br>\n",
    "\n",
    "@auther:BigOceans"
   ]
  },
  {
   "cell_type": "code",
   "execution_count": 6,
   "metadata": {},
   "outputs": [],
   "source": [
    "import numpy as np \n",
    "import cv2\n",
    "import matplotlib.pyplot as plt\n",
    "%matplotlib inline"
   ]
  },
  {
   "cell_type": "code",
   "execution_count": 17,
   "metadata": {},
   "outputs": [],
   "source": [
    "# 画线\n",
    "\n",
    "#创建一个黑底照片\n",
    "img = np.zeros((512,512,3),np.uint8)\n",
    "# 在黑底照片上画一条蓝色的线,线宽3\n",
    "cv2.line(img,(0,0),(200,200),(0,255,0),3)\n",
    "# 建立窗口显示图片\n",
    "cv2.namedWindow('image1',cv2.WINDOW_NORMAL)\n",
    "# 调整图片窗口大小\n",
    "cv2.resizeWindow('image1',500,500)\n",
    "# 展示图片\n",
    "cv2.imshow('image',img)\n",
    "cv2.waitKey(0)\n",
    "cv2.destroyAllWindows()"
   ]
  },
  {
   "cell_type": "code",
   "execution_count": 23,
   "metadata": {
    "collapsed": true
   },
   "outputs": [],
   "source": [
    "# 画矩形\n",
    "\n",
    "img = np.zeros((512,512,3),np.uint8)\n",
    "# 红色，长300，宽200的矩形\n",
    "cv2.rectangle(img,(0,0),(300,200),(0,0,255),3)\n",
    "\n",
    "cv2.namedWindow('image2',cv2.WINDOW_NORMAL)\n",
    "# 调整图片窗口大小\n",
    "cv2.resizeWindow('image2',500,500)\n",
    "# 展示图片\n",
    "cv2.imshow('image',img)\n",
    "cv2.waitKey(0)\n",
    "cv2.destroyAllWindows()"
   ]
  },
  {
   "cell_type": "code",
   "execution_count": 37,
   "metadata": {},
   "outputs": [],
   "source": [
    "# 圆形\n",
    "\n",
    "img = np.zeros((512,512,3),np.uint8)\n",
    "\n",
    "# 中心为（100,200），半径50，蓝色，-1向内填充（默认为1，表示闭合）\n",
    "cv2.circle(img,(100,200),50,(0,255,0),-1)\n",
    "\n",
    "cv2.namedWindow('image3',cv2.WINDOW_NORMAL)\n",
    "cv2.resizeWindow('image3',500,500)\n",
    "\n",
    "cv2.imshow('image3',img)\n",
    "cv2.waitKey(0)\n",
    "cv2.destroyAllWindows()"
   ]
  },
  {
   "cell_type": "code",
   "execution_count": 45,
   "metadata": {
    "collapsed": true
   },
   "outputs": [],
   "source": [
    "# 椭圆\n",
    "img = np.zeros((512,512,3),np.uint8)\n",
    "\n",
    "# 中心为（200,200），长宽（100,50），角度0-180，蓝色，-1向内填充（默认为1，表示闭合）\n",
    "cv2.ellipse(img,(200,200),(100,50),0,0,180,(0,255,0),-1)\n",
    "\n",
    "cv2.namedWindow('image4',cv2.WINDOW_NORMAL)\n",
    "cv2.resizeWindow('image4',500,500)\n",
    "\n",
    "cv2.imshow('image4',img)\n",
    "cv2.waitKey(0)\n",
    "cv2.destroyAllWindows()"
   ]
  },
  {
   "cell_type": "code",
   "execution_count": 53,
   "metadata": {},
   "outputs": [],
   "source": [
    "# 在图片上写字\n",
    "img = np.zeros((512,512,3),np.uint8)\n",
    "\n",
    "font = cv2.FONT_HERSHEY_SIMPLEX\n",
    "\n",
    "# 文字‘Add Words’,位置，格式，颜色，粗细，抗锯齿\n",
    "cv2.putText(img,'Add Words',(100,100),font,2,(0,255,0),2,cv2.LINE_AA)\n",
    "\n",
    "\n",
    "cv2.namedWindow('image5',cv2.WINDOW_NORMAL)\n",
    "cv2.resizeWindow('image5',500,500)\n",
    "\n",
    "cv2.imshow('image5',img)\n",
    "cv2.waitKey(0)\n",
    "cv2.destroyAllWindows()"
   ]
  },
  {
   "cell_type": "code",
   "execution_count": null,
   "metadata": {
    "collapsed": true
   },
   "outputs": [],
   "source": []
  }
 ],
 "metadata": {
  "kernelspec": {
   "display_name": "Python 3",
   "language": "python",
   "name": "python3"
  },
  "language_info": {
   "codemirror_mode": {
    "name": "ipython",
    "version": 3
   },
   "file_extension": ".py",
   "mimetype": "text/x-python",
   "name": "python",
   "nbconvert_exporter": "python",
   "pygments_lexer": "ipython3",
   "version": "3.6.1"
  }
 },
 "nbformat": 4,
 "nbformat_minor": 2
}
